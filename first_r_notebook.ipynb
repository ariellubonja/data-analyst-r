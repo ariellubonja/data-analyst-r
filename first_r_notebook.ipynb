{
 "cells": [
  {
   "cell_type": "code",
   "execution_count": 1,
   "id": "fd1e69ff-1e2a-462a-b850-f38eb812f7d6",
   "metadata": {},
   "outputs": [
    {
     "name": "stderr",
     "output_type": "stream",
     "text": [
      "also installing the dependencies ‘Rcpp’, ‘askpass’, ‘credentials’, ‘sys’, ‘zip’, ‘gitcreds’, ‘ini’, ‘httpuv’, ‘mime’, ‘xtable’, ‘sourcetools’, ‘later’, ‘promises’, ‘jquerylib’, ‘sass’, ‘fansi’, ‘systemfonts’, ‘textshaping’, ‘tinytex’, ‘xfun’, ‘pkgconfig’, ‘highr’, ‘diffobj’, ‘clipr’, ‘curl’, ‘gert’, ‘gh’, ‘purrr’, ‘rappdirs’, ‘rprojroot’, ‘rstudioapi’, ‘whisker’, ‘yaml’, ‘R6’, ‘cachem’, ‘shiny’, ‘callr’, ‘processx’, ‘bslib’, ‘downlit’, ‘fontawesome’, ‘httr2’, ‘openssl’, ‘ragg’, ‘rmarkdown’, ‘tibble’, ‘xml2’, ‘htmlwidgets’, ‘prettyunits’, ‘xopen’, ‘brew’, ‘commonmark’, ‘knitr’, ‘stringi’, ‘stringr’, ‘cpp11’, ‘brio’, ‘magrittr’, ‘praise’, ‘ps’, ‘waldo’, ‘usethis’, ‘desc’, ‘ellipsis’, ‘fs’, ‘memoise’, ‘miniUI’, ‘pkgbuild’, ‘pkgdown’, ‘pkgload’, ‘profvis’, ‘rcmdcheck’, ‘remotes’, ‘roxygen2’, ‘rversions’, ‘sessioninfo’, ‘testthat’, ‘urlchecker’, ‘withr’\n",
      "\n",
      "\n"
     ]
    },
    {
     "name": "stdout",
     "output_type": "stream",
     "text": [
      "\n",
      "The downloaded binary packages are in\n",
      "\t/var/folders/21/rybqmdj15yz5lp1lppq1761m0000gn/T//RtmpzzPw3M/downloaded_packages\n",
      "\n",
      "The downloaded binary packages are in\n",
      "\t/var/folders/21/rybqmdj15yz5lp1lppq1761m0000gn/T//RtmpzzPw3M/downloaded_packages\n"
     ]
    }
   ],
   "source": [
    "if (!requireNamespace(\"devtools\", quietly = TRUE)) install.packages(\"devtools\")\n",
    "if (!requireNamespace(\"BiocManager\", quietly = TRUE)) install.packages(\"BiocManager\")"
   ]
  },
  {
   "cell_type": "code",
   "execution_count": 2,
   "id": "dbddd360-4c01-4093-a088-fc38faad363f",
   "metadata": {},
   "outputs": [
    {
     "name": "stderr",
     "output_type": "stream",
     "text": [
      "'getOption(\"repos\")' replaces Bioconductor standard repositories, see\n",
      "'help(\"repositories\", package = \"BiocManager\")' for details.\n",
      "Replacement repositories:\n",
      "    CRAN: https://cran.r-project.org\n",
      "\n",
      "Bioconductor version 3.20 (BiocManager 1.30.25), R 4.4.2 (2024-10-31)\n",
      "\n",
      "Installing package(s) 'BiocVersion', 'Rgraphviz'\n",
      "\n",
      "also installing the dependencies ‘graph’, ‘RUnit’, ‘BiocGenerics’, ‘XML’\n",
      "\n",
      "\n"
     ]
    },
    {
     "name": "stdout",
     "output_type": "stream",
     "text": [
      "\n",
      "The downloaded binary packages are in\n",
      "\t/var/folders/21/rybqmdj15yz5lp1lppq1761m0000gn/T//RtmpzzPw3M/downloaded_packages\n"
     ]
    },
    {
     "name": "stderr",
     "output_type": "stream",
     "text": [
      "Old packages: 'class', 'cluster', 'foreign', 'KernSmooth', 'MASS', 'Matrix',\n",
      "  'nlme', 'nnet', 'rpart', 'spatial', 'survival'\n",
      "\n"
     ]
    }
   ],
   "source": [
    "BiocManager::install(\"Rgraphviz\", dependencies = TRUE)"
   ]
  },
  {
   "cell_type": "code",
   "execution_count": 3,
   "id": "1d541b6b-ca1e-41f6-aca3-5429579de722",
   "metadata": {},
   "outputs": [
    {
     "name": "stderr",
     "output_type": "stream",
     "text": [
      "Using GitHub PAT from the git credential store.\n",
      "\n",
      "Downloading GitHub repo wiesenfa/challengeR@HEAD\n",
      "\n"
     ]
    },
    {
     "name": "stdout",
     "output_type": "stream",
     "text": [
      "rbibutils    (NA -> 2.3       ) [CRAN]\n",
      "isoband      (NA -> 0.2.7     ) [CRAN]\n",
      "gtable       (NA -> 0.3.6     ) [CRAN]\n",
      "Rdpack       (NA -> 2.6.2     ) [CRAN]\n",
      "colorspace   (NA -> 2.1-1     ) [CRAN]\n",
      "microbenc... (NA -> 1.5.0     ) [CRAN]\n",
      "modelr       (NA -> 0.1.11    ) [CRAN]\n",
      "ggplot2      (NA -> 3.5.1     ) [CRAN]\n",
      "Deriv        (NA -> 4.1.6     ) [CRAN]\n",
      "cowplot      (NA -> 1.1.3     ) [CRAN]\n",
      "viridisLite  (NA -> 0.4.2     ) [CRAN]\n",
      "RColorBrewer (NA -> 1.1-3     ) [CRAN]\n",
      "munsell      (NA -> 0.5.1     ) [CRAN]\n",
      "labeling     (NA -> 0.4.3     ) [CRAN]\n",
      "farver       (NA -> 2.1.2     ) [CRAN]\n",
      "MatrixModels (NA -> 0.5-3     ) [CRAN]\n",
      "SparseM      (NA -> 1.84-2    ) [CRAN]\n",
      "doBy         (NA -> 4.6.25    ) [CRAN]\n",
      "numDeriv     (NA -> 2016.8-1.1) [CRAN]\n",
      "RcppEigen    (NA -> 0.3.4.0.2 ) [CRAN]\n",
      "reformulas   (NA -> 0.4.0     ) [CRAN]\n",
      "nloptr       (NA -> 2.1.1     ) [CRAN]\n",
      "minqa        (NA -> 1.2.8     ) [CRAN]\n",
      "scales       (NA -> 1.3.0     ) [CRAN]\n",
      "lme4         (NA -> 1.1-36    ) [CRAN]\n",
      "quantreg     (NA -> 6.00      ) [CRAN]\n",
      "pbkrtest     (NA -> 0.5.3     ) [CRAN]\n",
      "Formula      (NA -> 1.2-5     ) [CRAN]\n",
      "abind        (NA -> 1.4-8     ) [CRAN]\n",
      "carData      (NA -> 3.0-5     ) [CRAN]\n",
      "backports    (NA -> 1.5.0     ) [CRAN]\n",
      "generics     (NA -> 0.1.3     ) [CRAN]\n",
      "car          (NA -> 3.1-3     ) [CRAN]\n",
      "tidyselect   (NA -> 1.2.1     ) [CRAN]\n",
      "corrplot     (NA -> 0.95      ) [CRAN]\n",
      "dplyr        (NA -> 1.1.4     ) [CRAN]\n",
      "broom        (NA -> 1.0.7     ) [CRAN]\n",
      "tidyr        (NA -> 1.3.1     ) [CRAN]\n",
      "iterators    (NA -> 1.0.14    ) [CRAN]\n",
      "rstatix      (NA -> 0.7.2     ) [CRAN]\n",
      "polynom      (NA -> 1.4-1     ) [CRAN]\n",
      "gridExtra    (NA -> 2.3       ) [CRAN]\n",
      "ggsignif     (NA -> 0.6.4     ) [CRAN]\n",
      "ggsci        (NA -> 3.2.0     ) [CRAN]\n",
      "ggrepel      (NA -> 0.9.6     ) [CRAN]\n",
      "rngtools     (NA -> 1.5.2     ) [CRAN]\n",
      "foreach      (NA -> 1.5.2     ) [CRAN]\n",
      "plyr         (NA -> 1.8.9     ) [CRAN]\n",
      "sets         (NA -> 1.0-25    ) [CRAN]\n",
      "slam         (NA -> 0.1-55    ) [CRAN]\n",
      "ggpubr       (NA -> 0.6.0     ) [CRAN]\n",
      "doRNG        (NA -> 1.8.6.1   ) [CRAN]\n",
      "doParallel   (NA -> 1.0.17    ) [CRAN]\n",
      "reshape2     (NA -> 1.4.4     ) [CRAN]\n",
      "relations    (NA -> 0.6-14    ) [CRAN]\n"
     ]
    },
    {
     "name": "stderr",
     "output_type": "stream",
     "text": [
      "Skipping 2 packages not available: Rgraphviz, graph\n",
      "\n",
      "Installing 55 packages: rbibutils, isoband, gtable, Rdpack, colorspace, microbenchmark, modelr, ggplot2, Deriv, cowplot, viridisLite, RColorBrewer, munsell, labeling, farver, MatrixModels, SparseM, doBy, numDeriv, RcppEigen, reformulas, nloptr, minqa, scales, lme4, quantreg, pbkrtest, Formula, abind, carData, backports, generics, car, tidyselect, corrplot, dplyr, broom, tidyr, iterators, rstatix, polynom, gridExtra, ggsignif, ggsci, ggrepel, rngtools, foreach, plyr, sets, slam, ggpubr, doRNG, doParallel, reshape2, relations\n",
      "\n"
     ]
    },
    {
     "name": "stdout",
     "output_type": "stream",
     "text": [
      "\n",
      "The downloaded binary packages are in\n",
      "\t/var/folders/21/rybqmdj15yz5lp1lppq1761m0000gn/T//RtmpzzPw3M/downloaded_packages\n",
      "\u001b[36m──\u001b[39m \u001b[36mR CMD build\u001b[39m \u001b[36m───────────────────────────────────────────────────────────\u001b[39m\n",
      "\u001b[32m✔\u001b[39m  \u001b[90mchecking for file ‘/private/var/folders/21/rybqmdj15yz5lp1lppq1761m0000gn/T/RtmpzzPw3M/remotes6f5e35f88a81/wiesenfa-challengeR-beb3b67/DESCRIPTION’\u001b[39m\u001b[36m\u001b[39m\n",
      "\u001b[90m─\u001b[39m\u001b[90m  \u001b[39m\u001b[90mpreparing ‘challengeR’:\u001b[39m\u001b[36m\u001b[39m\n",
      "\u001b[32m✔\u001b[39m  \u001b[90mchecking DESCRIPTION meta-information\u001b[39m\u001b[36m\u001b[39m\n",
      "\u001b[90m─\u001b[39m\u001b[90m  \u001b[39m\u001b[90mchecking for LF line-endings in source and make files and shell scripts\u001b[39m\u001b[36m\u001b[39m\n",
      "\u001b[90m─\u001b[39m\u001b[90m  \u001b[39m\u001b[90mchecking for empty or unneeded directories\u001b[39m\u001b[36m\u001b[39m\n",
      "\u001b[90m─\u001b[39m\u001b[90m  \u001b[39m\u001b[90mbuilding ‘challengeR_1.0.5.tar.gz’\u001b[39m\u001b[36m\u001b[39m\n",
      "   \n"
     ]
    }
   ],
   "source": [
    "devtools::install_github(\"wiesenfa/challengeR\", dependencies = TRUE)"
   ]
  },
  {
   "cell_type": "code",
   "execution_count": 4,
   "id": "fe3f49b3-4b3c-4063-bdb8-7e1926a6a67e",
   "metadata": {},
   "outputs": [
    {
     "name": "stderr",
     "output_type": "stream",
     "text": [
      "Loading required package: ggplot2\n",
      "\n",
      "Loading required package: purrr\n",
      "\n",
      "\n",
      "challengeR 1.0.5 loaded. \n",
      "\n",
      "Please cite as:\n",
      "   Wiesenfarth, M., Reinke, A., Landman, B.A., Eisenmann, M., Aguilera Saiz, L., Cardoso, M.J., Maier-Hein, L. and Kopp-Schneider, A. Methods and open-source toolkit for analyzing and visualizing challenge results. Sci Rep 11, 2369 (2021). https://doi.org/10.1038/s41598-021-82017-6\n",
      "\n",
      "\n",
      "\n",
      "Attaching package: ‘challengeR’\n",
      "\n",
      "\n",
      "The following object is masked from ‘package:base’:\n",
      "\n",
      "    rank\n",
      "\n",
      "\n"
     ]
    }
   ],
   "source": [
    "library(challengeR)\n"
   ]
  },
  {
   "cell_type": "code",
   "execution_count": null,
   "id": "bec27cfe-1944-4786-a03b-542bb29415f0",
   "metadata": {},
   "outputs": [],
   "source": []
  }
 ],
 "metadata": {
  "kernelspec": {
   "display_name": "R",
   "language": "R",
   "name": "ir"
  },
  "language_info": {
   "codemirror_mode": "r",
   "file_extension": ".r",
   "mimetype": "text/x-r-source",
   "name": "R",
   "pygments_lexer": "r",
   "version": "4.4.2"
  }
 },
 "nbformat": 4,
 "nbformat_minor": 5
}
